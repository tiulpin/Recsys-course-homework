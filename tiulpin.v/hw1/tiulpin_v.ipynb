{
 "cells": [
  {
   "cell_type": "code",
   "execution_count": 1,
   "outputs": [],
   "source": [
    "# !pip install pandas numpy scikit-learn tqdm  # in case you don't have some libraries required to run the code"
   ],
   "metadata": {
    "collapsed": false,
    "pycharm": {
     "name": "#%%\n"
    }
   }
  },
  {
   "cell_type": "code",
   "execution_count": 2,
   "outputs": [],
   "source": [
    "import warnings\n",
    "warnings.filterwarnings('ignore')\n",
    "\n",
    "from utils import *\n",
    "\n",
    "import pandas as pd\n",
    "from tqdm.auto import tqdm\n",
    "\n",
    "tqdm.pandas()"
   ],
   "metadata": {
    "collapsed": false,
    "pycharm": {
     "name": "#%%\n"
    }
   }
  },
  {
   "cell_type": "markdown",
   "source": [
    "## Загрузка данных\n",
    "\n",
    "Загрузим данные – только необходимые столбцы для решения задачи.\n",
    "\n",
    "Проанализировал данные с [pandas-profiling](https://github.com/pandas-profiling/pandas-profiling) (но репорт в репозиторий загружать не стал).\n"
   ],
   "metadata": {
    "collapsed": false,
    "pycharm": {
     "name": "#%% md\n"
    }
   }
  },
  {
   "cell_type": "code",
   "execution_count": 3,
   "outputs": [
    {
     "data": {
      "text/plain": "                     campaign_clicks os_id country_id  clicks\ndate_time                                                    \n2021-09-01 00:02:49                0     0          7       0\n2021-09-26 00:00:00                1     3          0       0\n2021-09-26 00:00:00                2     2         15       0\n2021-09-26 00:00:00                2     2          5       0\n2021-09-26 00:00:00                1     4         13       0",
      "text/html": "<div>\n<style scoped>\n    .dataframe tbody tr th:only-of-type {\n        vertical-align: middle;\n    }\n\n    .dataframe tbody tr th {\n        vertical-align: top;\n    }\n\n    .dataframe thead th {\n        text-align: right;\n    }\n</style>\n<table border=\"1\" class=\"dataframe\">\n  <thead>\n    <tr style=\"text-align: right;\">\n      <th></th>\n      <th>campaign_clicks</th>\n      <th>os_id</th>\n      <th>country_id</th>\n      <th>clicks</th>\n    </tr>\n    <tr>\n      <th>date_time</th>\n      <th></th>\n      <th></th>\n      <th></th>\n      <th></th>\n    </tr>\n  </thead>\n  <tbody>\n    <tr>\n      <th>2021-09-01 00:02:49</th>\n      <td>0</td>\n      <td>0</td>\n      <td>7</td>\n      <td>0</td>\n    </tr>\n    <tr>\n      <th>2021-09-26 00:00:00</th>\n      <td>1</td>\n      <td>3</td>\n      <td>0</td>\n      <td>0</td>\n    </tr>\n    <tr>\n      <th>2021-09-26 00:00:00</th>\n      <td>2</td>\n      <td>2</td>\n      <td>15</td>\n      <td>0</td>\n    </tr>\n    <tr>\n      <th>2021-09-26 00:00:00</th>\n      <td>2</td>\n      <td>2</td>\n      <td>5</td>\n      <td>0</td>\n    </tr>\n    <tr>\n      <th>2021-09-26 00:00:00</th>\n      <td>1</td>\n      <td>4</td>\n      <td>13</td>\n      <td>0</td>\n    </tr>\n  </tbody>\n</table>\n</div>"
     },
     "execution_count": 3,
     "metadata": {},
     "output_type": "execute_result"
    }
   ],
   "source": [
    "types = {\n",
    "    'os_id': str,\n",
    "    'country_id': str,\n",
    "    'campaign_clicks': int,\n",
    "    'clicks': int\n",
    "}\n",
    "columns = ['date_time', *types.keys()]\n",
    "df = pd.read_csv(\n",
    "    '../data/data.csv',\n",
    "    dtype=types,\n",
    "    usecols=columns,\n",
    "    parse_dates=[columns[0]]\n",
    ")\n",
    "df = df.set_index(columns[0]).sort_index()\n",
    "df.head()"
   ],
   "metadata": {
    "collapsed": false,
    "pycharm": {
     "name": "#%%\n"
    }
   }
  },
  {
   "cell_type": "markdown",
   "source": [
    "## Предобработка данных\n",
    "\n",
    "Подготовим данные к тренировке и тестированию (сразу все для упрощения). Добавим фичей – час, день недели, время дня, и закодируем категориальные фичи.\n",
    "\n",
    "В реальной жизни (если бы нужно было сохранить модель и переиспользовать ее уже на новых данных) энкодер пришлось бы сделать по другому (здесь используется get_dummies из pandas) и сериализовать вместе с моделью."
   ],
   "metadata": {
    "collapsed": false,
    "pycharm": {
     "name": "#%% md\n"
    }
   }
  },
  {
   "cell_type": "code",
   "execution_count": 4,
   "outputs": [
    {
     "data": {
      "text/plain": "  0%|          | 0/15821472 [00:00<?, ?it/s]",
      "application/vnd.jupyter.widget-view+json": {
       "version_major": 2,
       "version_minor": 0,
       "model_id": "21c68477b9774ec3b924c58623a2ef73"
      }
     },
     "metadata": {},
     "output_type": "display_data"
    },
    {
     "data": {
      "text/plain": "                     campaign_clicks  clicks  hour  weekday  os_id_0  os_id_1  \\\ndate_time                                                                       \n2021-09-01 00:02:49                0       0     0        2        1        0   \n2021-09-26 00:00:00                1       0     0        6        0        0   \n2021-09-26 00:00:00                2       0     0        6        0        0   \n2021-09-26 00:00:00                2       0     0        6        0        0   \n2021-09-26 00:00:00                1       0     0        6        0        0   \n\n                     os_id_10  os_id_2  os_id_3  os_id_4  ...  country_id_6  \\\ndate_time                                                 ...                 \n2021-09-01 00:02:49         0        0        0        0  ...             0   \n2021-09-26 00:00:00         0        0        1        0  ...             0   \n2021-09-26 00:00:00         0        1        0        0  ...             0   \n2021-09-26 00:00:00         0        1        0        0  ...             0   \n2021-09-26 00:00:00         0        0        0        1  ...             0   \n\n                     country_id_7  country_id_8  country_id_9  \\\ndate_time                                                       \n2021-09-01 00:02:49             1             0             0   \n2021-09-26 00:00:00             0             0             0   \n2021-09-26 00:00:00             0             0             0   \n2021-09-26 00:00:00             0             0             0   \n2021-09-26 00:00:00             0             0             0   \n\n                     daytime_Early Morning  daytime_Eve  daytime_Late Night  \\\ndate_time                                                                     \n2021-09-01 00:02:49                      0            0                   1   \n2021-09-26 00:00:00                      0            0                   1   \n2021-09-26 00:00:00                      0            0                   1   \n2021-09-26 00:00:00                      0            0                   1   \n2021-09-26 00:00:00                      0            0                   1   \n\n                     daytime_Morning  daytime_Night  daytime_Noon  \ndate_time                                                          \n2021-09-01 00:02:49                0              0             0  \n2021-09-26 00:00:00                0              0             0  \n2021-09-26 00:00:00                0              0             0  \n2021-09-26 00:00:00                0              0             0  \n2021-09-26 00:00:00                0              0             0  \n\n[5 rows x 38 columns]",
      "text/html": "<div>\n<style scoped>\n    .dataframe tbody tr th:only-of-type {\n        vertical-align: middle;\n    }\n\n    .dataframe tbody tr th {\n        vertical-align: top;\n    }\n\n    .dataframe thead th {\n        text-align: right;\n    }\n</style>\n<table border=\"1\" class=\"dataframe\">\n  <thead>\n    <tr style=\"text-align: right;\">\n      <th></th>\n      <th>campaign_clicks</th>\n      <th>clicks</th>\n      <th>hour</th>\n      <th>weekday</th>\n      <th>os_id_0</th>\n      <th>os_id_1</th>\n      <th>os_id_10</th>\n      <th>os_id_2</th>\n      <th>os_id_3</th>\n      <th>os_id_4</th>\n      <th>...</th>\n      <th>country_id_6</th>\n      <th>country_id_7</th>\n      <th>country_id_8</th>\n      <th>country_id_9</th>\n      <th>daytime_Early Morning</th>\n      <th>daytime_Eve</th>\n      <th>daytime_Late Night</th>\n      <th>daytime_Morning</th>\n      <th>daytime_Night</th>\n      <th>daytime_Noon</th>\n    </tr>\n    <tr>\n      <th>date_time</th>\n      <th></th>\n      <th></th>\n      <th></th>\n      <th></th>\n      <th></th>\n      <th></th>\n      <th></th>\n      <th></th>\n      <th></th>\n      <th></th>\n      <th></th>\n      <th></th>\n      <th></th>\n      <th></th>\n      <th></th>\n      <th></th>\n      <th></th>\n      <th></th>\n      <th></th>\n      <th></th>\n      <th></th>\n    </tr>\n  </thead>\n  <tbody>\n    <tr>\n      <th>2021-09-01 00:02:49</th>\n      <td>0</td>\n      <td>0</td>\n      <td>0</td>\n      <td>2</td>\n      <td>1</td>\n      <td>0</td>\n      <td>0</td>\n      <td>0</td>\n      <td>0</td>\n      <td>0</td>\n      <td>...</td>\n      <td>0</td>\n      <td>1</td>\n      <td>0</td>\n      <td>0</td>\n      <td>0</td>\n      <td>0</td>\n      <td>1</td>\n      <td>0</td>\n      <td>0</td>\n      <td>0</td>\n    </tr>\n    <tr>\n      <th>2021-09-26 00:00:00</th>\n      <td>1</td>\n      <td>0</td>\n      <td>0</td>\n      <td>6</td>\n      <td>0</td>\n      <td>0</td>\n      <td>0</td>\n      <td>0</td>\n      <td>1</td>\n      <td>0</td>\n      <td>...</td>\n      <td>0</td>\n      <td>0</td>\n      <td>0</td>\n      <td>0</td>\n      <td>0</td>\n      <td>0</td>\n      <td>1</td>\n      <td>0</td>\n      <td>0</td>\n      <td>0</td>\n    </tr>\n    <tr>\n      <th>2021-09-26 00:00:00</th>\n      <td>2</td>\n      <td>0</td>\n      <td>0</td>\n      <td>6</td>\n      <td>0</td>\n      <td>0</td>\n      <td>0</td>\n      <td>1</td>\n      <td>0</td>\n      <td>0</td>\n      <td>...</td>\n      <td>0</td>\n      <td>0</td>\n      <td>0</td>\n      <td>0</td>\n      <td>0</td>\n      <td>0</td>\n      <td>1</td>\n      <td>0</td>\n      <td>0</td>\n      <td>0</td>\n    </tr>\n    <tr>\n      <th>2021-09-26 00:00:00</th>\n      <td>2</td>\n      <td>0</td>\n      <td>0</td>\n      <td>6</td>\n      <td>0</td>\n      <td>0</td>\n      <td>0</td>\n      <td>1</td>\n      <td>0</td>\n      <td>0</td>\n      <td>...</td>\n      <td>0</td>\n      <td>0</td>\n      <td>0</td>\n      <td>0</td>\n      <td>0</td>\n      <td>0</td>\n      <td>1</td>\n      <td>0</td>\n      <td>0</td>\n      <td>0</td>\n    </tr>\n    <tr>\n      <th>2021-09-26 00:00:00</th>\n      <td>1</td>\n      <td>0</td>\n      <td>0</td>\n      <td>6</td>\n      <td>0</td>\n      <td>0</td>\n      <td>0</td>\n      <td>0</td>\n      <td>0</td>\n      <td>1</td>\n      <td>...</td>\n      <td>0</td>\n      <td>0</td>\n      <td>0</td>\n      <td>0</td>\n      <td>0</td>\n      <td>0</td>\n      <td>1</td>\n      <td>0</td>\n      <td>0</td>\n      <td>0</td>\n    </tr>\n  </tbody>\n</table>\n<p>5 rows × 38 columns</p>\n</div>"
     },
     "execution_count": 4,
     "metadata": {},
     "output_type": "execute_result"
    }
   ],
   "source": [
    "data = feature_engineering(df)\n",
    "data.head()"
   ],
   "metadata": {
    "collapsed": false,
    "pycharm": {
     "name": "#%%\n"
    }
   }
  },
  {
   "cell_type": "markdown",
   "source": [
    "## Подбор гиперпараметров\n",
    "\n",
    "Подберем параметр регуляризации для модели – и валидироваться будем на предпоследнем дне (а последний день нужен для финального теста по условию)."
   ],
   "metadata": {
    "collapsed": false,
    "pycharm": {
     "name": "#%% md\n"
    }
   }
  },
  {
   "cell_type": "code",
   "execution_count": 5,
   "outputs": [
    {
     "data": {
      "text/plain": "  0%|          | 0/7 [00:00<?, ?it/s]",
      "application/vnd.jupyter.widget-view+json": {
       "version_major": 2,
       "version_minor": 0,
       "model_id": "d06d3ddff622451384991cf061090fa7"
      }
     },
     "metadata": {},
     "output_type": "display_data"
    },
    {
     "name": "stdout",
     "output_type": "stream",
     "text": [
      "{0.001: 0.17222138494337919, 0.01: 0.17211409931395602, 0.1: 0.17210640031552743, 1.0: 0.17210543141865484, 10.0: 0.1721063040023169, 100.0: 0.17210980521832803, 1000.0: 0.17211244747729113}\n"
     ]
    }
   ],
   "source": [
    "df_train = data.loc[:'2021-09-30']\n",
    "df_test = data.loc['2021-10-01']\n",
    "\n",
    "c_score = {c: test_model(df_test, create_model(df_train, c=c)) for c in tqdm(np.logspace(-3, 3, 7))}\n",
    "print(c_score)"
   ],
   "metadata": {
    "collapsed": false,
    "pycharm": {
     "name": "#%%\n"
    }
   }
  },
  {
   "cell_type": "code",
   "execution_count": 6,
   "outputs": [],
   "source": [
    "train, test = (\n",
    "    data.loc[:'2021-10-01'].copy(),\n",
    "    data.loc['2021-10-02'].copy()\n",
    ")"
   ],
   "metadata": {
    "collapsed": false,
    "pycharm": {
     "name": "#%%\n"
    }
   }
  },
  {
   "cell_type": "markdown",
   "source": [
    "## Тренировка и тестирование\n",
    "\n",
    "Данные готовы, параметры подобраны – теперь тренируем новую модель на всех доступных для тренировки данных и тестируем ее."
   ],
   "metadata": {
    "collapsed": false,
    "pycharm": {
     "name": "#%% md\n"
    }
   }
  },
  {
   "cell_type": "code",
   "execution_count": 9,
   "outputs": [
    {
     "data": {
      "text/plain": "0.1481375873231281"
     },
     "execution_count": 9,
     "metadata": {},
     "output_type": "execute_result"
    }
   ],
   "source": [
    "model = create_model(train, c=1.0)\n",
    "test_model(test, model)"
   ],
   "metadata": {
    "collapsed": false,
    "pycharm": {
     "name": "#%%\n"
    }
   }
  },
  {
   "cell_type": "markdown",
   "source": [
    "И чтобы убедиться, что все это было не зря, сравним результат нашей модели с простым бейзлайном"
   ],
   "metadata": {
    "collapsed": false,
    "pycharm": {
     "name": "#%% md\n"
    }
   }
  },
  {
   "cell_type": "code",
   "execution_count": 8,
   "outputs": [
    {
     "data": {
      "text/plain": "0.15486198009919763"
     },
     "execution_count": 8,
     "metadata": {},
     "output_type": "execute_result"
    }
   ],
   "source": [
    "score(test.clicks, [(1 - train.clicks.mean(), train.clicks.mean())] * len(test))"
   ],
   "metadata": {
    "collapsed": false,
    "pycharm": {
     "name": "#%%\n"
    }
   }
  }
 ],
 "metadata": {
  "kernelspec": {
   "display_name": "Python 3",
   "language": "python",
   "name": "python3"
  },
  "language_info": {
   "codemirror_mode": {
    "name": "ipython",
    "version": 2
   },
   "file_extension": ".py",
   "mimetype": "text/x-python",
   "name": "python",
   "nbconvert_exporter": "python",
   "pygments_lexer": "ipython2",
   "version": "2.7.6"
  }
 },
 "nbformat": 4,
 "nbformat_minor": 0
}